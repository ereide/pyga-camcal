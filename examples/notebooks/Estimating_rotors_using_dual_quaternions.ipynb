{
 "cells": [
  {
   "cell_type": "markdown",
   "metadata": {},
   "source": [
    "## Estimating rotors using dual quaternions "
   ]
  },
  {
   "cell_type": "markdown",
   "metadata": {},
   "source": [
    "This is a comparison between the method developed in pygacal and the method presented by Bayro-Corrochano et.al. in [Motor Algebra for 3D Kinematics: The Case of the Hand-Eye Calibration](https://link.springer.com/article/10.1023%2FA%3A102656781298). \n",
    "\n",
    "Representing lines as \n",
    "\n",
    "$$ L = n + I m $$\n",
    "\n",
    "$$ n = x_2 - x_1 $$\n",
    "\n",
    "$$ m = x_1 \\times x_2 $$\n",
    "\n",
    "$$ \\\n",
    "\\begin{bmatrix} \n",
    "    a - b & [a + b]_{\\times} & 0_{3 \\times 1} & 0_{3 \\times 1} \\\\\n",
    "    a' - b' & [a' + b']_{\\times} & a - b & [a + b]_{\\times} \\\\\n",
    "\\end{bmatrix} \\begin{bmatrix} \n",
    "    R \\\\\n",
    "    R'\n",
    "\\end{bmatrix} = \\begin{bmatrix} \n",
    "    0 \\\\ \n",
    "    0\n",
    "\\end{bmatrix} $$\n",
    "\n",
    "$$\n",
    "    \\Rightarrow \\begin{bmatrix} \n",
    "    C_1 \\\\\n",
    "    \\vdots \\\\\n",
    "    C_N\n",
    "\\end{bmatrix} \\begin{bmatrix} \n",
    "    R \\\\\n",
    "    R'\n",
    "\\end{bmatrix} = \\begin{bmatrix} \n",
    "    0 \\\\ \n",
    "    0\n",
    "\\end{bmatrix}\n",
    "$$\n",
    "\n",
    "$$ \\Rightarrow D \\begin{bmatrix} \n",
    "    R \\\\\n",
    "    R'\n",
    "\\end{bmatrix} = \\begin{bmatrix} \n",
    "    0 \\\\ \n",
    "    0\n",
    "\\end{bmatrix}$$"
   ]
  },
  {
   "cell_type": "markdown",
   "metadata": {},
   "source": [
    "$$ D = U \\Sigma V^T $$\n",
    "\n",
    "$\\Sigma$ should have two and only two small singular values. \n",
    "\n",
    "Let $v_7 = \\begin{bmatrix} u_1 \\\\ v_1 \\end{bmatrix} $ and $v_8 = \\begin{bmatrix} u_2 \\\\ v_2 \\end{bmatrix} $ \n",
    "\n",
    "Solve the set of equations for $ \\alpha \\neq 0 $ and $ \\beta \\neq 0$: \n",
    "\n",
    "\\begin{align}\n",
    "    \\alpha^2 u_1^T u_1 + 2 \\alpha \\beta  u_1^T u_2 + \\beta^2  u_2^T u_2 &= 1 \\\\\n",
    "    \\alpha^2 u_1^T v_1 + \\alpha \\beta ( u_1^T v_2 + v_1^T u_2) + \\beta^2  u_2^T u_2 &= 1 \n",
    "\\end{align}\n",
    "\n",
    "Choose largest $\\beta$ as our solution. Sign does not matter. \n",
    "\n",
    "$$ \\Rightarrow \\begin{bmatrix} \n",
    "    R \\\\\n",
    "    R'\n",
    "\\end{bmatrix} = \\alpha v_7 + \\beta v_8 $$\n",
    "\n",
    "$R$ is a quaternion representing the rotation\n",
    "$R'$ can be converted to $t$\n",
    "\n",
    "$$ \\begin{bmatrix} 0 \\\\t \\end{bmatrix}  = - 2 R' \\tilde{R} $$ (quaternion multiplication)\n"
   ]
  },
  {
   "cell_type": "code",
   "execution_count": 1,
   "metadata": {},
   "outputs": [],
   "source": [
    "from pygacal.common.cgatools import *\n",
    "from pygacal.geometry import *\n",
    "from pygacal.geometry.lines import *\n",
    "from pygacal.geometry.transformations import * \n",
    "from pygacal.rotation.mapping import BivectorLineMapping\n",
    "from pygacal.rotation import minimizeError\n",
    "from pygacal.rotation.costfunction import rotorAbsCostFunction\n",
    "\n",
    "\n",
    "import numpy as np\n"
   ]
  },
  {
   "cell_type": "code",
   "execution_count": 2,
   "metadata": {},
   "outputs": [],
   "source": [
    "\n",
    "\n",
    "def cross_product(a):\n",
    "    return np.array([[0, -a[2], a[1]], [a[2], 0, -a[0]], [-a[1], a[0], 0]])\n",
    "\n",
    "def dual_quat_line(x_1, x_2):\n",
    "    n = x_2 - x_1\n",
    "    m = np.cross(x_1, x_2)\n",
    "    return n, m\n",
    "\n",
    "def D_matrix(a, ad, b, bd):\n",
    "    D = np.zeros((6, 8))\n",
    "    D[:3, 0]   = a - b\n",
    "    D[:3, 1:4] = cross_product(a + b)\n",
    "    D[3:, 0]   = ad - bd\n",
    "    D[3:, 1:4] = cross_product(ad + bd)\n",
    "    D[3:, 4]   = a - b\n",
    "    D[3:, 5:] = cross_product(a + b)\n",
    "    return D\n",
    "\n",
    "\n",
    "    "
   ]
  },
  {
   "cell_type": "code",
   "execution_count": 3,
   "metadata": {},
   "outputs": [],
   "source": [
    "seed = 21\n",
    "sigma_T = 0.4\n",
    "sigma_R = 0.05\n",
    "N = 200\n",
    "\n",
    "line1, line2 = createRandomLines(2)\n",
    "R_real = RotorLine2Line(line1, line2)\n",
    "\n",
    "traininglinesets = createNoisyLineSet(R_real, sigma_R, sigma_T, N)"
   ]
  },
  {
   "cell_type": "code",
   "execution_count": 4,
   "metadata": {},
   "outputs": [],
   "source": [
    "C = np.zeros((N*6, 8))\n",
    "\n",
    "for i in range(len(traininglinesets)):\n",
    "    linepair = traininglinesets[i]\n",
    "    L1 = linepair[0]\n",
    "    L2 = linepair[1]    \n",
    "    a, ma = findLineParams(L1)\n",
    "    b, mb = findLineParams(L2)\n",
    "        \n",
    "    x11 = MVto3DVec(a)\n",
    "    x12 = MVto3DVec(a) + MVto3DVec(ma)\n",
    "    x21 = MVto3DVec(b)\n",
    "    x22 = MVto3DVec(b) + MVto3DVec(mb)\n",
    "    \n",
    "    a, ad = dual_quat_line(x11, x12)\n",
    "    b, bd = dual_quat_line(x21, x22)   \n",
    "    \n",
    "    C[6*i:6*(i + 1), :] = D_matrix(a, ad, b, bd)"
   ]
  },
  {
   "cell_type": "code",
   "execution_count": 5,
   "metadata": {},
   "outputs": [],
   "source": [
    "U, S, VH = np.linalg.svd(C)"
   ]
  },
  {
   "cell_type": "code",
   "execution_count": 6,
   "metadata": {},
   "outputs": [
    {
     "name": "stdout",
     "output_type": "stream",
     "text": [
      "-1.217867543666495 0.0015822324277964773\n"
     ]
    }
   ],
   "source": [
    "V = VH.transpose()\n",
    "\n",
    "v7 = V[:, 6]\n",
    "v8 = V[:, 7]\n",
    "\n",
    "u1 = v7[:4]\n",
    "v1 = v7[4:]\n",
    "\n",
    "u2 = v8[:4]\n",
    "v2 = v8[4:]\n",
    "\n",
    "a = np.dot(u1, v1)\n",
    "b = np.dot(u1, v2) + np.dot(v1, u2)\n",
    "c = np.dot(u2, v2)\n",
    "\n",
    "mu_1 = (-b + np.sqrt(b*b - 4 * a * c))/(2 * a)\n",
    "mu_2 = (-b - np.sqrt(b*b - 4 * a * c))/(2 * a)\n",
    "\n",
    "a = np.dot(u1, u1)\n",
    "b = 2 * np.dot(u1, u2) \n",
    "c = np.dot(u2, u2)\n",
    "\n",
    "beta_1 = 1.0 / np.sqrt(mu_1*mu_1 * a + mu_2 * b + c)\n",
    "beta_2 = 1.0 / np.sqrt(mu_2*mu_2 * a + mu_2 * b + c)\n",
    "\n",
    "beta = min(beta_1, beta_2)\n",
    "mu = ([mu_1, mu_2])[np.argmin([[beta_1, beta_2]])]\n",
    "\n",
    "\n",
    "alpha = mu * beta\n",
    "r = alpha * v7 + beta * v8\n",
    "\n",
    "print(alpha, beta)"
   ]
  },
  {
   "cell_type": "code",
   "execution_count": 7,
   "metadata": {},
   "outputs": [
    {
     "data": {
      "text/plain": [
       "array([ 0.66324755,  0.5126254 , -0.41023037, -0.35923151,  0.16012357,\n",
       "       -0.38960053, -0.47534342,  0.28249957])"
      ]
     },
     "execution_count": 7,
     "metadata": {},
     "output_type": "execute_result"
    }
   ],
   "source": [
    "r"
   ]
  },
  {
   "cell_type": "code",
   "execution_count": 8,
   "metadata": {},
   "outputs": [
    {
     "name": "stdout",
     "output_type": "stream",
     "text": [
      "[-1.22713241  1.14928337  0.1371147 ]\n"
     ]
    }
   ],
   "source": [
    "quat = r[:4]\n",
    "#quat = r[:4]/np.sqrt(np.dot(r[:4], r[:4]))\n",
    "#print(quat)\n",
    "angles = quaternion_to_rotation(quat) \n",
    "print(angles)"
   ]
  },
  {
   "cell_type": "code",
   "execution_count": 9,
   "metadata": {},
   "outputs": [
    {
     "name": "stdout",
     "output_type": "stream",
     "text": [
      "[ 0.10767353  0.48944628 -1.29677532]\n"
     ]
    }
   ],
   "source": [
    "#dual_quat = r[4:]/np.sqrt(np.dot(r[4:], r[4:]))\n",
    "#print(dual_quat)\n",
    "dual_quat = r[4:]\n",
    "\n",
    "def quaternion_mult(q,r):\n",
    "    w0, x0, y0, z0 = q\n",
    "    w1, x1, y1, z1 = r\n",
    "    return np.array([-x1*x0 - y1*y0 - z1*z0 + w1*w0,\n",
    "                         x1*w0 + y1*z0 - z1*y0 + w1*x0,\n",
    "                        -x1*z0 + y1*w0 + z1*x0 + w1*y0,\n",
    "                         x1*y0 - y1*x0 + z1*w0 + w1*z0], dtype=np.float64)\n",
    "\n",
    "def quat_conjugate(quat):\n",
    "    return np.array([quat[0],-1*quat[1],-1*quat[2],-1*quat[3]])\n",
    "\n",
    "t = -2 * quaternion_mult(dual_quat, quat_conjugate(quat))\n",
    "\n",
    "translation = t[1:]\n",
    "print(translation)\n"
   ]
  },
  {
   "cell_type": "code",
   "execution_count": 10,
   "metadata": {},
   "outputs": [],
   "source": [
    "def bivector_difference(R_true, R_test):\n",
    "    B_true = ga_log(R_true)\n",
    "    B_test = ga_log(R_test) \n",
    "    return rotorAbsCostFunction(ga_exp(B_test - B_true))\n",
    "    "
   ]
  },
  {
   "cell_type": "code",
   "execution_count": 11,
   "metadata": {},
   "outputs": [],
   "source": [
    "R_min, nit = minimizeError(traininglinesets, mapping = BivectorLineMapping, x0 = None)   \n"
   ]
  },
  {
   "cell_type": "code",
   "execution_count": 12,
   "metadata": {},
   "outputs": [
    {
     "name": "stdout",
     "output_type": "stream",
     "text": [
      "(array([-1.16366943,  1.062581  ,  0.19182439]), array([-0.00149985,  0.31151166, -0.63195071]))\n",
      "0.0\n"
     ]
    }
   ],
   "source": [
    "print(versor_to_param(R_real))\n",
    "print(bivector_difference(R_real, R_real))"
   ]
  },
  {
   "cell_type": "code",
   "execution_count": 13,
   "metadata": {},
   "outputs": [
    {
     "name": "stdout",
     "output_type": "stream",
     "text": [
      "(array([-1.22713241,  1.14928337,  0.1371147 ]), array([ 0.10767353,  0.48944628, -1.29677532]))\n",
      "0.1561981664124321\n"
     ]
    }
   ],
   "source": [
    "R_Eduardo = parameters_to_versor(angles, translation)\n",
    "print(versor_to_param(R_Eduardo))\n",
    "print(bivector_difference(R_real, R_Eduardo))"
   ]
  },
  {
   "cell_type": "code",
   "execution_count": 14,
   "metadata": {},
   "outputs": [
    {
     "name": "stdout",
     "output_type": "stream",
     "text": [
      "(array([-1.144068  ,  1.08023709,  0.17233148]), array([ 0.10039105,  0.24129895, -0.76492784]))\n",
      "0.009811315567573912\n"
     ]
    }
   ],
   "source": [
    "print(versor_to_param(R_min))\n",
    "print(bivector_difference(R_real, R_min))"
   ]
  }
 ],
 "metadata": {
  "kernelspec": {
   "display_name": "Python 3",
   "language": "python",
   "name": "python3"
  },
  "language_info": {
   "codemirror_mode": {
    "name": "ipython",
    "version": 3
   },
   "file_extension": ".py",
   "mimetype": "text/x-python",
   "name": "python",
   "nbconvert_exporter": "python",
   "pygments_lexer": "ipython3",
   "version": "3.5.2"
  }
 },
 "nbformat": 4,
 "nbformat_minor": 2
}
