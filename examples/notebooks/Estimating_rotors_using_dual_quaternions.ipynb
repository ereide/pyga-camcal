{
 "cells": [
  {
   "cell_type": "markdown",
   "metadata": {},
   "source": [
    "## Estimating rotors using dual quaternions "
   ]
  },
  {
   "cell_type": "markdown",
   "metadata": {},
   "source": [
    "This is a comparison between the method developed in pygacal and the method presented by Bayro-Corrochano et.al. in [Motor Algebra for 3D Kinematics: The Case of the Hand-Eye Calibration](https://link.springer.com/article/10.1023%2FA%3A102656781298). \n",
    "\n",
    "Representing lines as \n",
    "\n",
    "$$ L = n + I m $$\n",
    "\n",
    "$$ n = x_2 - x_1 $$\n",
    "\n",
    "$$ m = x_1 \\times x_2 $$\n",
    "\n",
    "We then set up the relation for a pair of lines $L_1 = a + I a'$ and $L_2 = b + I b'$ transformed with the rotor $M = R + I R'$. \n",
    "\n",
    "$$ \\\n",
    "\\begin{bmatrix} \n",
    "    a - b & [a + b]_{\\times} & 0_{3 \\times 1} & 0_{3 \\times 1} \\\\\n",
    "    a' - b' & [a' + b']_{\\times} & a - b & [a + b]_{\\times} \\\\\n",
    "\\end{bmatrix} \\begin{bmatrix} \n",
    "    R \\\\\n",
    "    R'\n",
    "\\end{bmatrix} = \\begin{bmatrix} \n",
    "    0 \\\\ \n",
    "    0\n",
    "\\end{bmatrix} $$\n",
    "\n",
    "$$\n",
    "    \\Rightarrow \\begin{bmatrix} \n",
    "    C_1 \\\\\n",
    "    \\vdots \\\\\n",
    "    C_N\n",
    "\\end{bmatrix} \\begin{bmatrix} \n",
    "    R \\\\\n",
    "    R'\n",
    "\\end{bmatrix} = \\begin{bmatrix} \n",
    "    0 \\\\ \n",
    "    0\n",
    "\\end{bmatrix}\n",
    "$$\n",
    "\n",
    "$$ \\Rightarrow D \\begin{bmatrix} \n",
    "    R \\\\\n",
    "    R'\n",
    "\\end{bmatrix} = \\begin{bmatrix} \n",
    "    0 \\\\ \n",
    "    0\n",
    "\\end{bmatrix}$$"
   ]
  },
  {
   "cell_type": "markdown",
   "metadata": {},
   "source": [
    "$$ D = U \\Sigma V^T $$\n",
    "\n",
    "$\\Sigma$ should have two and only two small singular values. \n",
    "\n",
    "Let $v_7 = \\begin{bmatrix} u_1 \\\\ v_1 \\end{bmatrix} $ and $v_8 = \\begin{bmatrix} u_2 \\\\ v_2 \\end{bmatrix} $ \n",
    "\n",
    "Solve the set of equations for $ \\alpha \\neq 0 $ and $ \\beta \\neq 0$: \n",
    "\n",
    "\\begin{align}\n",
    "    \\alpha^2 u_1^T u_1 + 2 \\alpha \\beta  u_1^T u_2 + \\beta^2  u_2^T u_2 &= 1 \\\\\n",
    "    \\alpha^2 u_1^T v_1 + \\alpha \\beta ( u_1^T v_2 + v_1^T u_2) + \\beta^2  u_2^T u_2 &= 1 \n",
    "\\end{align}\n",
    "\n",
    "Choose largest $\\beta$ as our solution. Sign does not matter. \n",
    "\n",
    "$$ \\Rightarrow \\begin{bmatrix} \n",
    "    R \\\\\n",
    "    R'\n",
    "\\end{bmatrix} = \\alpha v_7 + \\beta v_8 $$\n",
    "\n",
    "$R$ is a quaternion representing the rotation\n",
    "$R'$ can be converted to $t$\n",
    "\n",
    "$$ \\begin{bmatrix} 0 \\\\t \\end{bmatrix}  = - 2 R' \\tilde{R} $$ (quaternion multiplication)\n"
   ]
  },
  {
   "cell_type": "code",
   "execution_count": 4,
   "metadata": {},
   "outputs": [
    {
     "ename": "ImportError",
     "evalue": "No module named 'pygacal'",
     "output_type": "error",
     "traceback": [
      "\u001b[0;31m---------------------------------------------------------------------------\u001b[0m",
      "\u001b[0;31mImportError\u001b[0m                               Traceback (most recent call last)",
      "\u001b[0;32m<ipython-input-4-600db28af42a>\u001b[0m in \u001b[0;36m<module>\u001b[0;34m()\u001b[0m\n\u001b[0;32m----> 1\u001b[0;31m \u001b[0;32mfrom\u001b[0m \u001b[0mpygacal\u001b[0m\u001b[0;34m.\u001b[0m\u001b[0mcommon\u001b[0m\u001b[0;34m.\u001b[0m\u001b[0mcgatools\u001b[0m \u001b[0;32mimport\u001b[0m \u001b[0;34m*\u001b[0m\u001b[0;34m\u001b[0m\u001b[0m\n\u001b[0m\u001b[1;32m      2\u001b[0m \u001b[0;32mfrom\u001b[0m \u001b[0mpygacal\u001b[0m\u001b[0;34m.\u001b[0m\u001b[0mgeometry\u001b[0m \u001b[0;32mimport\u001b[0m \u001b[0;34m*\u001b[0m\u001b[0;34m\u001b[0m\u001b[0m\n\u001b[1;32m      3\u001b[0m \u001b[0;32mfrom\u001b[0m \u001b[0mpygacal\u001b[0m\u001b[0;34m.\u001b[0m\u001b[0mgeometry\u001b[0m\u001b[0;34m.\u001b[0m\u001b[0mlines\u001b[0m \u001b[0;32mimport\u001b[0m \u001b[0;34m*\u001b[0m\u001b[0;34m\u001b[0m\u001b[0m\n\u001b[1;32m      4\u001b[0m \u001b[0;32mfrom\u001b[0m \u001b[0mpygacal\u001b[0m\u001b[0;34m.\u001b[0m\u001b[0mgeometry\u001b[0m\u001b[0;34m.\u001b[0m\u001b[0mtransformations\u001b[0m \u001b[0;32mimport\u001b[0m \u001b[0;34m*\u001b[0m\u001b[0;34m\u001b[0m\u001b[0m\n\u001b[1;32m      5\u001b[0m \u001b[0;32mfrom\u001b[0m \u001b[0mpygacal\u001b[0m\u001b[0;34m.\u001b[0m\u001b[0mrotation\u001b[0m\u001b[0;34m.\u001b[0m\u001b[0mmapping\u001b[0m \u001b[0;32mimport\u001b[0m \u001b[0mBivectorLineMapping\u001b[0m\u001b[0;34m\u001b[0m\u001b[0m\n",
      "\u001b[0;31mImportError\u001b[0m: No module named 'pygacal'"
     ]
    }
   ],
   "source": [
    "from pygacal.common.cgatools import *\n",
    "from pygacal.geometry import *\n",
    "from pygacal.geometry.lines import *\n",
    "from pygacal.geometry.transformations import * \n",
    "from pygacal.rotation.mapping import BivectorLineMapping\n",
    "from pygacal.rotation import minimizeError\n",
    "from pygacal.rotation.costfunction import rotorAbsCostFunction\n",
    "\n",
    "import time\n",
    "\n",
    "import numpy as np\n"
   ]
  },
  {
   "cell_type": "code",
   "execution_count": 2,
   "metadata": {},
   "outputs": [],
   "source": [
    "\n",
    "\n",
    "def cross_product(a):\n",
    "    return np.array([[0, -a[2], a[1]], [a[2], 0, -a[0]], [-a[1], a[0], 0]])\n",
    "\n",
    "def dual_quat_line(x_1, x_2):\n",
    "    n = x_2 - x_1\n",
    "    m = np.cross(x_1, x_2)\n",
    "    return n, m\n",
    "\n",
    "def D_matrix(a, ad, b, bd):\n",
    "    D = np.zeros((6, 8))\n",
    "    D[:3, 0]   = a - b\n",
    "    D[:3, 1:4] = cross_product(a + b)\n",
    "    D[3:, 0]   = ad - bd\n",
    "    D[3:, 1:4] = cross_product(ad + bd)\n",
    "    D[3:, 4]   = a - b\n",
    "    D[3:, 5:] = cross_product(a + b)\n",
    "    return D\n",
    "\n",
    "\n",
    "    "
   ]
  },
  {
   "cell_type": "code",
   "execution_count": 3,
   "metadata": {},
   "outputs": [
    {
     "name": "stdout",
     "output_type": "stream",
     "text": [
      "Translated lineA by  -(84.36154^e1) + (61.54745^e2) + (65.58604^e3)\n",
      "Translated lineB by  -(47.45976^e1) + (85.55667^e2) + (48.22457^e3)\n"
     ]
    }
   ],
   "source": [
    "sigma_R             = 0.01 \n",
    "sigma_T             = 0.01\n",
    "N_train             = 20\n",
    "line_scale          = 100\n",
    "translation_scale   = 100\n",
    "\n",
    "N = N_train\n",
    "\n",
    "line1, line2 = createRandomLines(2)\n",
    "a = createRandomVector(scale = translation_scale)\n",
    "print(\"Translated lineA by \", a)\n",
    "\n",
    "b = createRandomVector(scale = translation_scale)\n",
    "print(\"Translated lineB by \", b)\n",
    "\n",
    "T_a = Translator(a)\n",
    "T_b = Translator(b)\n",
    "\n",
    "#Move them far away from the origin\n",
    "lineA = T_a * line1 * ~T_a  \n",
    "lineB = T_b * line2 * ~T_b  \n",
    "\n",
    "R_real = RotorLine2Line(lineA, lineB)\n",
    "\n",
    "traininglinesets    = createNoisyLineSet(R_real, sigma_R, sigma_T, N_train, scale = line_scale)\n"
   ]
  },
  {
   "cell_type": "code",
   "execution_count": null,
   "metadata": {},
   "outputs": [],
   "source": []
  },
  {
   "cell_type": "code",
   "execution_count": null,
   "metadata": {},
   "outputs": [],
   "source": []
  },
  {
   "cell_type": "code",
   "execution_count": 4,
   "metadata": {},
   "outputs": [
    {
     "name": "stdout",
     "output_type": "stream",
     "text": [
      "0.1384572982788086\n"
     ]
    }
   ],
   "source": [
    "\n",
    "t0 = time.time()\n",
    "\n",
    "C = np.zeros((N*6, 8))\n",
    "\n",
    "for i in range(len(traininglinesets)):\n",
    "    linepair = traininglinesets[i]\n",
    "    L1 = linepair[0]\n",
    "    L2 = linepair[1]    \n",
    "    a, ma = findLineParams(L1)\n",
    "    b, mb = findLineParams(L2)\n",
    "        \n",
    "    x11 = MVto3DVec(a)\n",
    "    x12 = MVto3DVec(a) + MVto3DVec(ma)\n",
    "    x21 = MVto3DVec(b)\n",
    "    x22 = MVto3DVec(b) + MVto3DVec(mb)\n",
    "    \n",
    "    a, ad = dual_quat_line(x11, x12)\n",
    "    b, bd = dual_quat_line(x21, x22)   \n",
    "    \n",
    "    C[6*i:6*(i + 1), :] = D_matrix(a, ad, b, bd)\n",
    "    \n",
    "    \n",
    "\n",
    "U, S, VH = np.linalg.svd(C)\n",
    "\n",
    "V = VH.transpose()\n",
    "\n",
    "v7 = V[:, 6]\n",
    "v8 = V[:, 7]\n",
    "\n",
    "u1 = v7[:4]\n",
    "v1 = v7[4:]\n",
    "\n",
    "u2 = v8[:4]\n",
    "v2 = v8[4:]\n",
    "\n",
    "a = np.dot(u1, v1)\n",
    "b = np.dot(u1, v2) + np.dot(v1, u2)\n",
    "c = np.dot(u2, v2)\n",
    "\n",
    "mu_1 = (-b + np.sqrt(b*b - 4 * a * c))/(2 * a)\n",
    "mu_2 = (-b - np.sqrt(b*b - 4 * a * c))/(2 * a)\n",
    "\n",
    "a = np.dot(u1, u1)\n",
    "b = 2 * np.dot(u1, u2) \n",
    "c = np.dot(u2, u2)\n",
    "\n",
    "beta_1 = 1.0 / np.sqrt(mu_1*mu_1 * a + mu_2 * b + c)\n",
    "beta_2 = 1.0 / np.sqrt(mu_2*mu_2 * a + mu_2 * b + c)\n",
    "\n",
    "beta = min(beta_1, beta_2)\n",
    "mu = ([mu_1, mu_2])[np.argmin([[beta_1, beta_2]])]\n",
    "\n",
    "\n",
    "alpha = mu * beta\n",
    "r = alpha * v7 + beta * v8\n",
    "\n",
    "\n",
    "t_diff_edu = time.time() - t0\n",
    "\n",
    "print(t_diff_edu)"
   ]
  },
  {
   "cell_type": "code",
   "execution_count": 5,
   "metadata": {},
   "outputs": [
    {
     "data": {
      "text/plain": [
       "array([-7.10992464e-01, -5.53397375e-01,  6.83557577e-02, -4.71796292e-01,\n",
       "       -5.63839028e+00, -2.57651703e+01, -7.10383299e+01,  2.84261491e+01])"
      ]
     },
     "execution_count": 5,
     "metadata": {},
     "output_type": "execute_result"
    }
   ],
   "source": [
    "r"
   ]
  },
  {
   "cell_type": "code",
   "execution_count": 6,
   "metadata": {},
   "outputs": [
    {
     "name": "stdout",
     "output_type": "stream",
     "text": [
      "[-1.11519608 -0.43894068 -0.9065478 ]\n"
     ]
    }
   ],
   "source": [
    "quat = r[:4]\n",
    "#quat = r[:4]/np.sqrt(np.dot(r[:4], r[:4]))\n",
    "#print(quat)\n",
    "angles = quaternion_to_rotation(quat) \n",
    "print(angles)"
   ]
  },
  {
   "cell_type": "code",
   "execution_count": 7,
   "metadata": {},
   "outputs": [
    {
     "name": "stdout",
     "output_type": "stream",
     "text": [
      "[-93.5422023  -46.01253111 127.88914489]\n"
     ]
    }
   ],
   "source": [
    "#dual_quat = r[4:]/np.sqrt(np.dot(r[4:], r[4:]))\n",
    "#print(dual_quat)\n",
    "dual_quat = r[4:]\n",
    "\n",
    "def quaternion_mult(q,r):\n",
    "    w0, x0, y0, z0 = q\n",
    "    w1, x1, y1, z1 = r\n",
    "    return np.array([-x1*x0 - y1*y0 - z1*z0 + w1*w0,\n",
    "                         x1*w0 + y1*z0 - z1*y0 + w1*x0,\n",
    "                        -x1*z0 + y1*w0 + z1*x0 + w1*y0,\n",
    "                         x1*y0 - y1*x0 + z1*w0 + w1*z0], dtype=np.float64)\n",
    "\n",
    "def quat_conjugate(quat):\n",
    "    return np.array([quat[0],-1*quat[1],-1*quat[2],-1*quat[3]])\n",
    "\n",
    "t = -2 * quaternion_mult(dual_quat, quat_conjugate(quat))\n",
    "\n",
    "translation = t[1:]\n",
    "print(translation)\n",
    "\n",
    "R_Eduardo = parameters_to_versor(angles, translation)\n",
    "\n"
   ]
  },
  {
   "cell_type": "code",
   "execution_count": 8,
   "metadata": {},
   "outputs": [],
   "source": [
    "def bivector_difference(R_true, R_test):\n",
    "    B_true = ga_log(R_true)\n",
    "    B_test = ga_log(R_test) \n",
    "    return rotorAbsCostFunction(ga_exp(B_test - B_true))\n",
    "    "
   ]
  },
  {
   "cell_type": "code",
   "execution_count": 9,
   "metadata": {},
   "outputs": [
    {
     "name": "stdout",
     "output_type": "stream",
     "text": [
      "0.31809048206427365\n",
      "46\n",
      "3.495171070098877\n"
     ]
    }
   ],
   "source": [
    "##Boosted with starting point:\n",
    "\n",
    "t0 = time.time()\n",
    "\n",
    "x0 = BivectorLineMapping.inverserotorconversion(R_Eduardo)\n",
    "\n",
    "R_min_boost, nit_boost = minimizeError(traininglinesets, mapping = BivectorLineMapping, x0 = x0)   \n",
    "\n",
    "print(bivector_difference(R_real, R_min_boost))\n",
    "\n",
    "print(nit_boost)\n",
    "t_diff_boost = time.time() - t0 + t_diff_edu\n",
    "print(t_diff_boost)"
   ]
  },
  {
   "cell_type": "code",
   "execution_count": 10,
   "metadata": {},
   "outputs": [
    {
     "name": "stdout",
     "output_type": "stream",
     "text": [
      "57\n",
      "3.692878007888794\n"
     ]
    }
   ],
   "source": [
    "\n",
    "## Normal\n",
    "\n",
    "t0 = time.time()\n",
    "\n",
    "R_min, nit = minimizeError(traininglinesets, mapping = BivectorLineMapping, x0 = None)   \n",
    "\n",
    "print(nit)\n",
    "\n",
    "\n",
    "t_diff = time.time() - t0\n",
    "print(t_diff)"
   ]
  },
  {
   "cell_type": "code",
   "execution_count": 11,
   "metadata": {},
   "outputs": [
    {
     "name": "stdout",
     "output_type": "stream",
     "text": [
      "(array([-1.11854124, -0.42882305, -0.9120788 ]), array([-89.85426931, -42.976977  , 122.85294995]))\n",
      "0.0\n"
     ]
    }
   ],
   "source": [
    "print(versor_to_param(R_real))\n",
    "print(bivector_difference(R_real, R_real))"
   ]
  },
  {
   "cell_type": "code",
   "execution_count": 12,
   "metadata": {},
   "outputs": [
    {
     "name": "stdout",
     "output_type": "stream",
     "text": [
      "(array([-1.11519608, -0.43894068, -0.9065478 ]), array([-93.5422023 , -46.01253111, 127.88914489]))\n",
      "15.257579731435317\n"
     ]
    }
   ],
   "source": [
    "print(versor_to_param(R_Eduardo))\n",
    "print(bivector_difference(R_real, R_Eduardo))"
   ]
  },
  {
   "cell_type": "code",
   "execution_count": 13,
   "metadata": {},
   "outputs": [
    {
     "name": "stdout",
     "output_type": "stream",
     "text": [
      "(array([-1.11677078, -0.42859016, -0.90755294]), array([-89.59489535, -44.24423129, 122.85226635]))\n",
      "0.31810718122061854\n"
     ]
    }
   ],
   "source": [
    "print(versor_to_param(R_min))\n",
    "print(bivector_difference(R_real, R_min))"
   ]
  },
  {
   "cell_type": "code",
   "execution_count": 14,
   "metadata": {},
   "outputs": [
    {
     "name": "stdout",
     "output_type": "stream",
     "text": [
      "20 0.01 0.01\n",
      "\n",
      "15.257579731435317 0.1384572982788086\n",
      "0.31810718122061854 3.692878007888794 57 3.495171070098877 46\n"
     ]
    }
   ],
   "source": [
    "print(N, sigma_T, sigma_R)\n",
    "print()\n",
    "print(bivector_difference(R_real, R_Eduardo), t_diff_edu)\n",
    "print(bivector_difference(R_real, R_min), t_diff, nit, t_diff_boost, nit_boost)"
   ]
  },
  {
   "cell_type": "code",
   "execution_count": 8,
   "metadata": {},
   "outputs": [],
   "source": [
    "%matplotlib inline\n",
    "import matplotlib.pyplot as plt\n",
    "import numpy as np\n",
    "\n",
    "\n"
   ]
  },
  {
   "cell_type": "code",
   "execution_count": 75,
   "metadata": {},
   "outputs": [],
   "source": [
    "data = np.genfromtxt('comparison.txt', delimiter=',')\n"
   ]
  },
  {
   "cell_type": "code",
   "execution_count": 69,
   "metadata": {},
   "outputs": [
    {
     "name": "stdout",
     "output_type": "stream",
     "text": [
      "[  10.   15.   20.   50.   70.  100.  150.  200.   10.   15.   20.   50.\n",
      "   70.  100.  150.  200.   10.   15.   20.   50.   70.  100.  150.  200.\n",
      "   10.   15.   20.   50.   70.  100.  150.  200.   15.   20.   50.   70.\n",
      "  100.  150.  200.   10.   15.   20.   50.   70.  100.  150.  200.   10.\n",
      "   15.   20.   50.   70.  100.  150.  200.   10.   15.   20.   50.   70.\n",
      "  100.  150.  200.   10.   15.   20.   50.   70.  150.  200.   10.   15.\n",
      "   20.   50.   70.  100.  150.]\n"
     ]
    }
   ],
   "source": [
    "print(data[:, 1])"
   ]
  },
  {
   "cell_type": "code",
   "execution_count": 76,
   "metadata": {},
   "outputs": [
    {
     "data": {
      "text/plain": [
       "(-4.5, -0.5)"
      ]
     },
     "execution_count": 76,
     "metadata": {},
     "output_type": "execute_result"
    },
    {
     "data": {
      "image/png": "[encoded data removed]",
      "text/plain": [
       "<matplotlib.figure.Figure at 0x7fb51f28f4a8>"
      ]
     },
     "metadata": {},
     "output_type": "display_data"
    }
   ],
   "source": [
    "plt.plot(np.log10(data[:, 0]), np.log10(data[:, 2]), 'ro', np.log10(data[:, 0]), np.log10(data[:, 4]), 'bx')\n",
    "plt.legend([\"Dual quaternions\", \"Rotor cost function\"], loc = 2)\n",
    "plt.xlabel(\"$ \\\\log_{10}(\\\\sigma) $\")\n",
    "plt.ylabel(\"$ \\\\log_{10}(e_r) $\")\n",
    "plt.xlim(left = -4.5, right = -0.5)"
   ]
  },
  {
   "cell_type": "code",
   "execution_count": 71,
   "metadata": {},
   "outputs": [
    {
     "data": {
      "text/plain": [
       "(-4.5, -0.5)"
      ]
     },
     "execution_count": 71,
     "metadata": {},
     "output_type": "execute_result"
    },
    {
     "data": {
      "image/png": "[encoded data removed]",
      "text/plain": [
       "<matplotlib.figure.Figure at 0x7fb51f70db38>"
      ]
     },
     "metadata": {},
     "output_type": "display_data"
    }
   ],
   "source": [
    "plt.plot(np.log10(data[:, 0]), np.log10(data[:, 3]), 'ro', np.log10(data[:, 0]), np.log10(data[:, 5]), 'bx')\n",
    "plt.legend([\"Dual quaternions\", \"Rotor cost function\"], loc = 2)\n",
    "plt.xlabel(\"$ \\\\log_{10}(\\\\sigma) $\")\n",
    "plt.ylabel(\"$ \\\\log_{10}(e_t) $\")\n",
    "plt.xlim(left = -4.5, right = -0.5)"
   ]
  },
  {
   "cell_type": "code",
   "execution_count": null,
   "metadata": {},
   "outputs": [],
   "source": []
  }
 ],
 "metadata": {
  "kernelspec": {
   "display_name": "Python 3",
   "language": "python",
   "name": "python3"
  },
  "language_info": {
   "codemirror_mode": {
    "name": "ipython",
    "version": 3
   },
   "file_extension": ".py",
   "mimetype": "text/x-python",
   "name": "python",
   "nbconvert_exporter": "python",
   "pygments_lexer": "ipython3",
   "version": "3.5.2"
  }
 },
 "nbformat": 4,
 "nbformat_minor": 2
}
