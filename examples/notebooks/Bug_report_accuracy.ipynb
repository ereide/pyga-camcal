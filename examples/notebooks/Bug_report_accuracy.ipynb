{
 "cells": [
  {
   "cell_type": "markdown",
   "metadata": {},
   "source": [
    "### Bug report\n",
    "\n",
    "\n",
    "\n",
    "\n"
   ]
  },
  {
   "cell_type": "code",
   "execution_count": 1,
   "metadata": {},
   "outputs": [],
   "source": [
    "\n",
    "import numpy as np\n",
    "\n",
    "\n",
    "from common.cgatools import VectoMV, up, down\n",
    "\n",
    "#TODO: Explicit imports\n",
    "from geometry.transformations import parameters_to_versor, versor_decomposition\n"
   ]
  },
  {
   "cell_type": "code",
   "execution_count": 5,
   "metadata": {},
   "outputs": [
    {
     "name": "stdout",
     "output_type": "stream",
     "text": [
      "1.0 - (61.5^e14) - (61.5^e15) - (228.0^e24) - (228.0^e25) - (394.5^e34) - (394.5^e35) , 0.92787 + (0.02929^e12) + (0.23376^e13) + (0.28905^e23)\n",
      "(1.24241^e1) - (0.48616^e2) - (0.00811^e3) + (0.39^e4) + (1.39^e5)\n",
      "(124.24241^e1) + (455.51384^e2) + (788.99189^e3) + (422718.11575^e4) + (422719.11575^e5) - (0.0^e124) - (0.0^e125) - (0.0^e134) - (0.0^e135) - (0.0^e234) - (0.0^e235)\n",
      "(124.14012^e1) + (455.35625^e2) + (788.74364^e3) + (422437.80615^e4) + (422438.80615^e5) + (0.0^e123) - (0.0^e124) - (0.0^e125) - (0.0^e134) - (0.0^e135) - (0.0^e234) - (0.0^e235) - (0.0^e245) + (0.0^e345) + (0.0^e12345)\n"
     ]
    },
    {
     "ename": "ValueError",
     "evalue": "no inverse exists for this multivector",
     "output_type": "error",
     "traceback": [
      "\u001b[0;31m---------------------------------------------------------------------------\u001b[0m",
      "\u001b[0;31mValueError\u001b[0m                                Traceback (most recent call last)",
      "\u001b[0;32m<ipython-input-5-2d881fc2a0c7>\u001b[0m in \u001b[0;36m<module>\u001b[0;34m()\u001b[0m\n\u001b[1;32m     37\u001b[0m \u001b[0;31m#B_rot = V*A*~V\u001b[0m\u001b[0;34m\u001b[0m\u001b[0;34m\u001b[0m\u001b[0m\n\u001b[1;32m     38\u001b[0m \u001b[0mprint\u001b[0m\u001b[0;34m(\u001b[0m\u001b[0mB_rot\u001b[0m\u001b[0;34m)\u001b[0m\u001b[0;34m\u001b[0m\u001b[0m\n\u001b[0;32m---> 39\u001b[0;31m \u001b[0mdown\u001b[0m\u001b[0;34m(\u001b[0m\u001b[0mB_rot\u001b[0m\u001b[0;34m)\u001b[0m \u001b[0;31m#Doesn't work, but should be the same number\u001b[0m\u001b[0;34m\u001b[0m\u001b[0m\n\u001b[0m\u001b[1;32m     40\u001b[0m \u001b[0;34m\u001b[0m\u001b[0m\n",
      "\u001b[0;32m~/Documents/Cambridge/GeometricAlgebra/CGA_CameraCalibration/venv/lib/python3.5/site-packages/clifford-0.81-py3.5.egg/clifford/__init__.py\u001b[0m in \u001b[0;36mdown\u001b[0;34m(x)\u001b[0m\n\u001b[1;32m   2311\u001b[0m \u001b[0;34m\u001b[0m\u001b[0m\n\u001b[1;32m   2312\u001b[0m     \u001b[0;32mdef\u001b[0m \u001b[0mdown\u001b[0m\u001b[0;34m(\u001b[0m\u001b[0mx\u001b[0m\u001b[0;34m)\u001b[0m\u001b[0;34m:\u001b[0m\u001b[0;34m\u001b[0m\u001b[0m\n\u001b[0;32m-> 2313\u001b[0;31m         \u001b[0;32mreturn\u001b[0m \u001b[0;34m(\u001b[0m\u001b[0mhomo\u001b[0m\u001b[0;34m(\u001b[0m\u001b[0mx\u001b[0m\u001b[0;34m)\u001b[0m \u001b[0;34m^\u001b[0m \u001b[0mE0\u001b[0m\u001b[0;34m)\u001b[0m\u001b[0;34m*\u001b[0m\u001b[0mE0\u001b[0m\u001b[0;34m\u001b[0m\u001b[0m\n\u001b[0m\u001b[1;32m   2314\u001b[0m \u001b[0;34m\u001b[0m\u001b[0m\n\u001b[1;32m   2315\u001b[0m     \u001b[0mstuff\u001b[0m \u001b[0;34m=\u001b[0m \u001b[0;34m{\u001b[0m\u001b[0;34m}\u001b[0m\u001b[0;34m\u001b[0m\u001b[0m\n",
      "\u001b[0;32m~/Documents/Cambridge/GeometricAlgebra/CGA_CameraCalibration/venv/lib/python3.5/site-packages/clifford-0.81-py3.5.egg/clifford/__init__.py\u001b[0m in \u001b[0;36mhomo\u001b[0;34m(x)\u001b[0m\n\u001b[1;32m   2308\u001b[0m \u001b[0;34m\u001b[0m\u001b[0m\n\u001b[1;32m   2309\u001b[0m     \u001b[0;32mdef\u001b[0m \u001b[0mhomo\u001b[0m\u001b[0;34m(\u001b[0m\u001b[0mx\u001b[0m\u001b[0;34m)\u001b[0m\u001b[0;34m:\u001b[0m\u001b[0;34m\u001b[0m\u001b[0m\n\u001b[0;32m-> 2310\u001b[0;31m         \u001b[0;32mreturn\u001b[0m \u001b[0mx\u001b[0m\u001b[0;34m*\u001b[0m\u001b[0;34m(\u001b[0m\u001b[0;34m-\u001b[0m\u001b[0mx\u001b[0m \u001b[0;34m|\u001b[0m \u001b[0meinf\u001b[0m\u001b[0;34m)\u001b[0m\u001b[0;34m.\u001b[0m\u001b[0mnormalInv\u001b[0m\u001b[0;34m(\u001b[0m\u001b[0;34m)\u001b[0m  \u001b[0;31m# homogenise conformal vector\u001b[0m\u001b[0;34m\u001b[0m\u001b[0m\n\u001b[0m\u001b[1;32m   2311\u001b[0m \u001b[0;34m\u001b[0m\u001b[0m\n\u001b[1;32m   2312\u001b[0m     \u001b[0;32mdef\u001b[0m \u001b[0mdown\u001b[0m\u001b[0;34m(\u001b[0m\u001b[0mx\u001b[0m\u001b[0;34m)\u001b[0m\u001b[0;34m:\u001b[0m\u001b[0;34m\u001b[0m\u001b[0m\n",
      "\u001b[0;32m~/Documents/Cambridge/GeometricAlgebra/CGA_CameraCalibration/venv/lib/python3.5/site-packages/clifford-0.81-py3.5.egg/clifford/__init__.py\u001b[0m in \u001b[0;36mnormalInv\u001b[0;34m(self)\u001b[0m\n\u001b[1;32m   1585\u001b[0m             \u001b[0;32mreturn\u001b[0m \u001b[0mMadjoint\u001b[0m \u001b[0;34m/\u001b[0m \u001b[0mMadjointM\u001b[0m\u001b[0;34m[\u001b[0m\u001b[0;34m(\u001b[0m\u001b[0;34m)\u001b[0m\u001b[0;34m]\u001b[0m\u001b[0;34m\u001b[0m\u001b[0m\n\u001b[1;32m   1586\u001b[0m         \u001b[0;32melse\u001b[0m\u001b[0;34m:\u001b[0m\u001b[0;34m\u001b[0m\u001b[0m\n\u001b[0;32m-> 1587\u001b[0;31m             \u001b[0;32mraise\u001b[0m \u001b[0mValueError\u001b[0m\u001b[0;34m(\u001b[0m\u001b[0;34m\"no inverse exists for this multivector\"\u001b[0m\u001b[0;34m)\u001b[0m\u001b[0;34m\u001b[0m\u001b[0m\n\u001b[0m\u001b[1;32m   1588\u001b[0m \u001b[0;34m\u001b[0m\u001b[0m\n\u001b[1;32m   1589\u001b[0m     \u001b[0mleftInv\u001b[0m \u001b[0;34m=\u001b[0m \u001b[0mleftLaInv\u001b[0m\u001b[0;34m\u001b[0m\u001b[0m\n",
      "\u001b[0;31mValueError\u001b[0m: no inverse exists for this multivector"
     ]
    }
   ],
   "source": [
    "import numpy as np \n",
    "\n",
    "alpha = -0.65\n",
    "beta  = 0.43\n",
    "gamma = -0.21\n",
    "\n",
    "#Craches for these numbers\n",
    "x, y, z = 123, 456, 789\n",
    "\n",
    "#Not for these\n",
    "#x, y, z = 12.3, 45.6, 78.9\n",
    "\n",
    "\n",
    "theta = np.array([alpha, beta, gamma])\n",
    "translation = np.array([x, y, z])\n",
    "\n",
    "V     = parameters_to_versor(theta, translation)\n",
    "\n",
    "\n",
    "a = np.array([1.2, -0.5, 0.3]) \n",
    "\n",
    "A    = up(VectoMV(a))\n",
    "\n",
    "T, R = versor_decomposition(V)\n",
    "\n",
    "print(T, \",\", R)\n",
    "\n",
    "C = R * A * ~R\n",
    "print(C)\n",
    "down(C)\n",
    "B_rot = T*C*~T\n",
    "print(B_rot)\n",
    "down(B_rot) #Works as expected\n",
    "\n",
    "#Neither of these works:\n",
    "B_rot = (T*R)*C*~(T*R)\n",
    "#B_rot = V*A*~V\n",
    "print(B_rot)\n",
    "down(B_rot) #Doesn't work, but should be the same number \n",
    "\n"
   ]
  }
 ],
 "metadata": {
  "kernelspec": {
   "display_name": "Python 3",
   "language": "python",
   "name": "python3"
  },
  "language_info": {
   "codemirror_mode": {
    "name": "ipython",
    "version": 3
   },
   "file_extension": ".py",
   "mimetype": "text/x-python",
   "name": "python",
   "nbconvert_exporter": "python",
   "pygments_lexer": "ipython3",
   "version": "3.5.2"
  }
 },
 "nbformat": 4,
 "nbformat_minor": 2
}
